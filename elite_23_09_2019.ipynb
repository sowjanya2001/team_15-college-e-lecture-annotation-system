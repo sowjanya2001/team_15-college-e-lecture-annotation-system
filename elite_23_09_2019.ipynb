{
  "nbformat": 4,
  "nbformat_minor": 0,
  "metadata": {
    "colab": {
      "name": "elite.23-09-2019",
      "provenance": [],
      "collapsed_sections": [],
      "include_colab_link": true
    },
    "kernelspec": {
      "name": "python3",
      "display_name": "Python 3"
    }
  },
  "cells": [
    {
      "cell_type": "markdown",
      "metadata": {
        "id": "view-in-github",
        "colab_type": "text"
      },
      "source": [
        "<a href=\"https://colab.research.google.com/github/sowjanya2001/team_15-college-e-lecture-annotation-system/blob/master/elite_23_09_2019.ipynb\" target=\"_parent\"><img src=\"https://colab.research.google.com/assets/colab-badge.svg\" alt=\"Open In Colab\"/></a>"
      ]
    },
    {
      "cell_type": "code",
      "metadata": {
        "id": "Oy-RHEoQedXG",
        "colab_type": "code",
        "outputId": "13e761a8-01b5-464c-f5a8-b46ea6827dd4",
        "colab": {
          "base_uri": "https://localhost:8080/",
          "height": 87
        }
      },
      "source": [
        "def cf_inv(cf):\n",
        "    numerator = 1\n",
        "    denominator = cf.pop()\n",
        "    while cf:\n",
        "        denominator, numerator = denominator*cf.pop() + numerator, denominator\n",
        "        print (numerator, denominator)\n",
        "    return denominator, numerator\n",
        "\n",
        "cf_inv([2, 3, 4, 5])"
      ],
      "execution_count": 0,
      "outputs": [
        {
          "output_type": "stream",
          "text": [
            "5 21\n",
            "21 68\n",
            "68 157\n"
          ],
          "name": "stdout"
        },
        {
          "output_type": "execute_result",
          "data": {
            "text/plain": [
              "(157, 68)"
            ]
          },
          "metadata": {
            "tags": []
          },
          "execution_count": 9
        }
      ]
    },
    {
      "cell_type": "code",
      "metadata": {
        "id": "E4lAmKY8ulTL",
        "colab_type": "code",
        "outputId": "c59227bd-a17a-4ead-d2ff-9b961385120f",
        "colab": {
          "base_uri": "https://localhost:8080/",
          "height": 52
        }
      },
      "source": [
        "print (\"Max power a^b : \")\n",
        "print (max(sum(map(int, str(a**b))) for a in range(100) for b in range(100)))"
      ],
      "execution_count": 0,
      "outputs": [
        {
          "output_type": "stream",
          "text": [
            "Max power a^b : \n",
            "972\n"
          ],
          "name": "stdout"
        }
      ]
    },
    {
      "cell_type": "code",
      "metadata": {
        "id": "JlTOnxVhyTWN",
        "colab_type": "code",
        "outputId": "04dbd122-255a-41c3-d5ff-fa2df5145e50",
        "colab": {
          "base_uri": "https://localhost:8080/",
          "height": 52
        }
      },
      "source": [
        "#problem 52\n",
        "print (\"Permuted multiple \")\n",
        "from itertools import count\n",
        "\n",
        "for n in count(100000):\n",
        "    digits = set(str(n))\n",
        "    if all(set(str(mult * n)) == digits for mult in range(2, 7)):\n",
        "        print (n)\n",
        "        break"
      ],
      "execution_count": 0,
      "outputs": [
        {
          "output_type": "stream",
          "text": [
            "Permuted multiple \n",
            "142857\n"
          ],
          "name": "stdout"
        }
      ]
    },
    {
      "cell_type": "code",
      "metadata": {
        "id": "-Bjpd7r-K2c1",
        "colab_type": "code",
        "outputId": "9d5427b1-819e-436a-d355-8b332fa3f3be",
        "colab": {
          "base_uri": "https://localhost:8080/",
          "height": 201
        }
      },
      "source": [
        "numbers = [(2*x**2) for x in list(range(1, 100))]\n",
        "normal = list(range(1, 100000))\n",
        "\n",
        "def primes(n):\n",
        "    sieve = [True] * n\n",
        "    for i in range(3, int(n**0.5) + 1, 2):\n",
        "        if sieve[i]:\n",
        "            sieve[i * i:: 2 * i] = [False] * int((n - i * i - 1)/(2 * i) + 1)\n",
        "    return [2] + [i for i in range(3, n, 2) if sieve[i]]\n",
        "\n",
        "primes = primes(1000)\n",
        "final = []\n",
        "added = [x + y for x in numbers for y in primes] \n",
        "\n",
        "for x in added:\n",
        "    if x not in normal:\n",
        "        final.append(x)\n",
        "min(final)"
      ],
      "execution_count": 0,
      "outputs": [
        {
          "output_type": "error",
          "ename": "ValueError",
          "evalue": "ignored",
          "traceback": [
            "\u001b[0;31m---------------------------------------------------------------------------\u001b[0m",
            "\u001b[0;31mValueError\u001b[0m                                Traceback (most recent call last)",
            "\u001b[0;32m<ipython-input-35-54d35eb5bb88>\u001b[0m in \u001b[0;36m<module>\u001b[0;34m()\u001b[0m\n\u001b[1;32m     16\u001b[0m     \u001b[0;32mif\u001b[0m \u001b[0mx\u001b[0m \u001b[0;32mnot\u001b[0m \u001b[0;32min\u001b[0m \u001b[0mnormal\u001b[0m\u001b[0;34m:\u001b[0m\u001b[0;34m\u001b[0m\u001b[0;34m\u001b[0m\u001b[0m\n\u001b[1;32m     17\u001b[0m         \u001b[0mfinal\u001b[0m\u001b[0;34m.\u001b[0m\u001b[0mappend\u001b[0m\u001b[0;34m(\u001b[0m\u001b[0mx\u001b[0m\u001b[0;34m)\u001b[0m\u001b[0;34m\u001b[0m\u001b[0;34m\u001b[0m\u001b[0m\n\u001b[0;32m---> 18\u001b[0;31m \u001b[0mmin\u001b[0m\u001b[0;34m(\u001b[0m\u001b[0mfinal\u001b[0m\u001b[0;34m)\u001b[0m\u001b[0;34m\u001b[0m\u001b[0;34m\u001b[0m\u001b[0m\n\u001b[0m",
            "\u001b[0;31mValueError\u001b[0m: min() arg is an empty sequence"
          ]
        }
      ]
    },
    {
      "cell_type": "code",
      "metadata": {
        "id": "omnYaVwzM8GG",
        "colab_type": "code",
        "colab": {}
      },
      "source": [
        "l1 = []\n",
        "l3 = []\n",
        "\n",
        "def verify_num(x):\n",
        "  l2 = []\n",
        "  for i in range(1, x // 2):\n",
        "    if x % i == 0:\n",
        "      l2.append(x)\n",
        "  l3 = [i for i, j in zip(l1, l2) if i == j]\n",
        "  if l3 == l2:\n",
        "    print(x)\n",
        "    \n",
        "for x in range(2,100000):\n",
        "  count = 0;\n",
        "  for y in range(1, x // 2):\n",
        "    if x % y == 0:\n",
        "      count += 1\n",
        "  if count == 1:\n",
        "    l1.append(x)\n",
        "    break\n",
        "for i in range(1000, 500000):\n",
        "  verify_num(x)\n",
        "    \n"
      ],
      "execution_count": 0,
      "outputs": []
    },
    {
      "cell_type": "code",
      "metadata": {
        "id": "EnpQXHWFoCjK",
        "colab_type": "code",
        "colab": {}
      },
      "source": [
        "def is_prime(n: int):\n",
        "  if n is [2,3,5,7]:\n",
        "    return True\n",
        "  if n % 2 == 0:\n",
        "    return False\n",
        "  factor = 3\n",
        "  while factor * factor <= n:\n",
        "    if n % factor == 1:\n",
        "      return False\n",
        "    factor += 2\n",
        "  return True\n",
        "\n",
        "def factorize(n: int) ->[int]:\n",
        "  factors = []\n",
        "  while n > 1 and n% 2 == 0:\n",
        "    factors.append(2)\n",
        "    n //= 2\n",
        "  factor = 3\n",
        "  while n > 1:\n",
        "    while n % factor == 0:\n",
        "      factors.append(factor)\n",
        "      n //= factor\n",
        "    factor += 2\n",
        "  return factors\n",
        "\n",
        "for n in range(16, 100000):\n",
        "  if len(set(factorize(n))) == 4:\n",
        "    if len(set(factorize(n+1))) == 4:\n",
        "      if len(set(factorize(n+2))) == 4:\n",
        "        if len(set(factorize(n+3))) == 4:\n",
        "          print(n, n+1, n+2, n+3);"
      ],
      "execution_count": 0,
      "outputs": []
    },
    {
      "cell_type": "code",
      "metadata": {
        "id": "Yk8q2xTOr06G",
        "colab_type": "code",
        "colab": {}
      },
      "source": [
        "def match_sum(n, s):\n",
        "  if len(s) < 6:\n",
        "    s += [1, 2, 3, 4, 3, 2]\n",
        "    stop = 1\n",
        "    while sum(s[:stop]) != n:\n",
        "      if s[stop] == 0:\n",
        "        s += [1, 2, 3, 4, 3, 2, 0]\n",
        "      stop += 1\n",
        "match_sum(3,[1, 2, 3, 4, 3, 2])"
      ],
      "execution_count": 0,
      "outputs": []
    },
    {
      "cell_type": "code",
      "metadata": {
        "id": "llaNaHqGEXH0",
        "colab_type": "code",
        "colab": {}
      },
      "source": [
        "#9 = 7 + 2×1^2   15 = 7 + 2×2^2  21 = 3 + 2×3^2  25 = 7 + 2×3^2\n",
        "#27 = 19 + 2×2^2  33 = 31 + 2×1^2\n",
        "\n",
        "#What is the smallest odd composite that cannot be written as the sum of a prime and twice a square?\n",
        "\n",
        "\n",
        "numbers = [(2*x**2) for x in list(range(1, 1000))]\n",
        "normal = list(range(1, 10000000))\n",
        "\n",
        "def primes(n):\n",
        "  \n",
        "    \n",
        "       \n",
        "primes = primes(1000)\n",
        "final = []\n",
        "\n",
        "\n",
        "added = [x + y for x in numbers for y in primes]\n",
        "\n",
        "\n",
        "for x in added:\n",
        "    if x not in normal:\n",
        "        final.append(x)\n",
        "\n",
        "print(min(final))\n"
      ],
      "execution_count": 0,
      "outputs": []
    },
    {
      "cell_type": "code",
      "metadata": {
        "id": "bQiuZtMPNYUI",
        "colab_type": "code",
        "outputId": "1a9c83a0-af5b-47e4-eb83-3d904cd5f39e",
        "colab": {
          "base_uri": "https://localhost:8080/",
          "height": 52
        }
      },
      "source": [
        "#Tn=n(n+1)/2\t \t1, 3, 6, 10, 15, ...\n",
        "#Pentagonal\t \tPn=n(3n−1)/2\t \t1, 5, 12, 22, 35, ...\n",
        "#Hexagonal\t \tHn=n(2n−1)\t\n",
        "#T285 = P165 = H143 = 40755\n",
        "\n",
        " \n",
        "def triangle():\n",
        "    \n",
        "    T = set((n * (n + 1) / 2) for n in range(2, 180000))\n",
        "    P = set((n * ((3 * n) - 1) / 2) for n in range(2, 180000))\n",
        "    H = set((n * ((2 * n) - 1)) for n in range(2, 180000))\n",
        "    for i in T:\n",
        "        if i in P and i in H:\n",
        "            print (i)\n",
        "        else:\n",
        "            continue\n",
        "triangle()"
      ],
      "execution_count": 0,
      "outputs": [
        {
          "output_type": "stream",
          "text": [
            "40755.0\n",
            "1533776805.0\n"
          ],
          "name": "stdout"
        }
      ]
    },
    {
      "cell_type": "code",
      "metadata": {
        "id": "Bwh7bThPUngU",
        "colab_type": "code",
        "outputId": "2d4ed834-5a42-4e7a-917a-f394f606b2a5",
        "colab": {
          "base_uri": "https://localhost:8080/",
          "height": 35
        }
      },
      "source": [
        "# How many not necessarily distinct, values of nCr for 1≤n≤100, are greater than one-million?\n",
        "\n",
        "import math\n",
        "i = 0\n",
        "\n",
        "def ncr(n, r):\n",
        "    return(math.factorial(n) / (math.factorial(r)*math.factorial(n-r)))\n",
        "\n",
        "for x in range(1,101):\n",
        "  for y in range(0,x):\n",
        "    if ncr(x, y) > 1000000:\n",
        "      i = i + 1\n",
        "\n",
        "print(i)"
      ],
      "execution_count": 0,
      "outputs": [
        {
          "output_type": "stream",
          "text": [
            "4075\n"
          ],
          "name": "stdout"
        }
      ]
    },
    {
      "cell_type": "code",
      "metadata": {
        "id": "4U6NSj1ObzDX",
        "colab_type": "code",
        "outputId": "f1ef4dfe-3abc-45b7-bc2d-7a64b887b696",
        "colab": {
          "base_uri": "https://localhost:8080/",
          "height": 235
        }
      },
      "source": [
        "\n",
        "\n",
        "L, maxn, c = 1000000, 100, 0\n",
        "\n",
        "for n in range(23, maxn + 1):\n",
        "    for r in range(2, n//2):\n",
        "        if (n, r) > L:\n",
        "            c+= n - 2*r + 1\n",
        "            break\n",
        "\n",
        "print(c)"
      ],
      "execution_count": 0,
      "outputs": [
        {
          "output_type": "error",
          "ename": "NameError",
          "evalue": "ignored",
          "traceback": [
            "\u001b[0;31m---------------------------------------------------------------------------\u001b[0m",
            "\u001b[0;31mNameError\u001b[0m                                 Traceback (most recent call last)",
            "\u001b[0;32m<ipython-input-86-e9437a6054d0>\u001b[0m in \u001b[0;36m<module>\u001b[0;34m()\u001b[0m\n\u001b[1;32m      5\u001b[0m \u001b[0;32mfor\u001b[0m \u001b[0mn\u001b[0m \u001b[0;32min\u001b[0m \u001b[0mrange\u001b[0m\u001b[0;34m(\u001b[0m\u001b[0;36m23\u001b[0m\u001b[0;34m,\u001b[0m \u001b[0mmaxn\u001b[0m \u001b[0;34m+\u001b[0m \u001b[0;36m1\u001b[0m\u001b[0;34m)\u001b[0m\u001b[0;34m:\u001b[0m\u001b[0;34m\u001b[0m\u001b[0;34m\u001b[0m\u001b[0m\n\u001b[1;32m      6\u001b[0m     \u001b[0;32mfor\u001b[0m \u001b[0mr\u001b[0m \u001b[0;32min\u001b[0m \u001b[0mrange\u001b[0m\u001b[0;34m(\u001b[0m\u001b[0;36m2\u001b[0m\u001b[0;34m,\u001b[0m \u001b[0mn\u001b[0m\u001b[0;34m//\u001b[0m\u001b[0;36m2\u001b[0m\u001b[0;34m)\u001b[0m\u001b[0;34m:\u001b[0m\u001b[0;34m\u001b[0m\u001b[0;34m\u001b[0m\u001b[0m\n\u001b[0;32m----> 7\u001b[0;31m         \u001b[0;32mif\u001b[0m \u001b[0mbinomial\u001b[0m\u001b[0;34m(\u001b[0m\u001b[0mn\u001b[0m\u001b[0;34m,\u001b[0m \u001b[0mr\u001b[0m\u001b[0;34m)\u001b[0m \u001b[0;34m>\u001b[0m \u001b[0mL\u001b[0m\u001b[0;34m:\u001b[0m\u001b[0;34m\u001b[0m\u001b[0;34m\u001b[0m\u001b[0m\n\u001b[0m\u001b[1;32m      8\u001b[0m             \u001b[0mc\u001b[0m\u001b[0;34m+=\u001b[0m \u001b[0mn\u001b[0m \u001b[0;34m-\u001b[0m \u001b[0;36m2\u001b[0m\u001b[0;34m*\u001b[0m\u001b[0mr\u001b[0m \u001b[0;34m+\u001b[0m \u001b[0;36m1\u001b[0m\u001b[0;34m\u001b[0m\u001b[0;34m\u001b[0m\u001b[0m\n\u001b[1;32m      9\u001b[0m             \u001b[0;32mbreak\u001b[0m\u001b[0;34m\u001b[0m\u001b[0;34m\u001b[0m\u001b[0m\n",
            "\u001b[0;31mNameError\u001b[0m: name 'binomial' is not defined"
          ]
        }
      ]
    }
  ]
}